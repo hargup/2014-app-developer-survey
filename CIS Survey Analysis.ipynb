{
 "cells": [
  {
   "cell_type": "markdown",
   "metadata": {},
   "source": [
    "# Methodology\n",
    "\n",
    "We used the python programming language to do the analysis as it is easy to use and has powerful tools like pandas to read and manipulate data read from csv file. All the premitives to run the analysis are written in the file `code.py`, this jupyter notebook calls the premitives to get answers to specific questions."
   ]
  },
  {
   "cell_type": "code",
   "execution_count": 1,
   "metadata": {
    "collapsed": true
   },
   "outputs": [],
   "source": [
    "%matplotlib inline"
   ]
  },
  {
   "cell_type": "code",
   "execution_count": 2,
   "metadata": {
    "collapsed": false
   },
   "outputs": [],
   "source": [
    "%run code"
   ]
  },
  {
   "cell_type": "code",
   "execution_count": 3,
   "metadata": {
    "collapsed": true
   },
   "outputs": [],
   "source": [
    "import matplotlib"
   ]
  },
  {
   "cell_type": "markdown",
   "metadata": {},
   "source": [
    "## 1. What is the reason for protecting the app product and which is the current mechanism in place to protect it? (Q51 and Q49)"
   ]
  },
  {
   "cell_type": "code",
   "execution_count": 4,
   "metadata": {
    "collapsed": false
   },
   "outputs": [
    {
     "name": "stdout",
     "output_type": "stream",
     "text": [
      "# To get those who are copying our work to stop: 17\n",
      "\t Trademark / Service mark: 7\n",
      "\t Digital Rights Management (DRM) / Technical Protection Mechanisms (TPM): 3\n",
      "\t Copyright: 10\n",
      "\t Unsure / I would rather not say: 2\n",
      "\t N/A - Ownership of all my work is assigned to clients: 0\n",
      "\t Trade secret: 2\n",
      "\t## Other\n",
      "\t\t nan: 17\n",
      "\t Free and/or Open Source Software License (FOSS): 3\n",
      "\t Patent (product, process, design or software): 4\n",
      "\t Creative Commons (CC) Licenses: 3\n",
      "# To prevent others from copying our work: 26\n",
      "\t Trademark / Service mark: 9\n",
      "\t Digital Rights Management (DRM) / Technical Protection Mechanisms (TPM): 3\n",
      "\t Copyright: 14\n",
      "\t Unsure / I would rather not say: 7\n",
      "\t N/A - Ownership of all my work is assigned to clients: 1\n",
      "\t Trade secret: 3\n",
      "\t## Other\n",
      "\t\t nan: 25\n",
      "\t\t I don't know a way for this: 1\n",
      "\t Free and/or Open Source Software License (FOSS): 7\n",
      "\t Patent (product, process, design or software): 5\n",
      "\t Creative Commons (CC) Licenses: 7\n",
      "# To prevent others from litigating against us for copying their work: 22\n",
      "\t Trademark / Service mark: 10\n",
      "\t Digital Rights Management (DRM) / Technical Protection Mechanisms (TPM): 4\n",
      "\t Copyright: 15\n",
      "\t Unsure / I would rather not say: 3\n",
      "\t N/A - Ownership of all my work is assigned to clients: 1\n",
      "\t Trade secret: 3\n",
      "\t## Other\n",
      "\t\t nan: 21\n",
      "\t\t Havent don't anything about it as yet , not sure if any of the options are effective and worth while ... Apps are so easy to copy, would rather focus on creating the next one rather than protecting turf ( aka music ): 1\n",
      "\t Free and/or Open Source Software License (FOSS): 4\n",
      "\t Patent (product, process, design or software): 6\n",
      "\t Creative Commons (CC) Licenses: 4\n",
      "# To prove that we are the creators of the work: 33\n",
      "\t Trademark / Service mark: 13\n",
      "\t Digital Rights Management (DRM) / Technical Protection Mechanisms (TPM): 4\n",
      "\t Copyright: 21\n",
      "\t Unsure / I would rather not say: 6\n",
      "\t N/A - Ownership of all my work is assigned to clients: 1\n",
      "\t Trade secret: 1\n",
      "\t## Other\n",
      "\t\t nan: 32\n",
      "\t\t Havent don't anything about it as yet , not sure if any of the options are effective and worth while ... Apps are so easy to copy, would rather focus on creating the next one rather than protecting turf ( aka music ): 1\n",
      "\t Free and/or Open Source Software License (FOSS): 12\n",
      "\t Patent (product, process, design or software): 8\n",
      "\t Creative Commons (CC) Licenses: 9\n",
      "# To litigate against others for copying our work: 11\n",
      "\t Trademark / Service mark: 4\n",
      "\t Digital Rights Management (DRM) / Technical Protection Mechanisms (TPM): 3\n",
      "\t Copyright: 7\n",
      "\t Unsure / I would rather not say: 2\n",
      "\t N/A - Ownership of all my work is assigned to clients: 1\n",
      "\t Trade secret: 1\n",
      "\t## Other\n",
      "\t\t nan: 11\n",
      "\t Free and/or Open Source Software License (FOSS): 2\n",
      "\t Patent (product, process, design or software): 4\n",
      "\t Creative Commons (CC) Licenses: 2\n",
      "# Unsure / I would rather not say: 15\n",
      "\t Trademark / Service mark: 2\n",
      "\t Digital Rights Management (DRM) / Technical Protection Mechanisms (TPM): 2\n",
      "\t Copyright: 5\n",
      "\t Unsure / I would rather not say: 7\n",
      "\t N/A - Ownership of all my work is assigned to clients: 4\n",
      "\t Trade secret: 1\n",
      "\t## Other\n",
      "\t\t nan: 15\n",
      "\t Free and/or Open Source Software License (FOSS): 2\n",
      "\t Patent (product, process, design or software): 3\n",
      "\t Creative Commons (CC) Licenses: 1\n",
      "# N/A - We do not have products / are not interested in protection: 3\n",
      "\t Trademark / Service mark: 0\n",
      "\t Digital Rights Management (DRM) / Technical Protection Mechanisms (TPM): 0\n",
      "\t Copyright: 2\n",
      "\t Unsure / I would rather not say: 0\n",
      "\t N/A - Ownership of all my work is assigned to clients: 0\n",
      "\t Trade secret: 0\n",
      "\t## Other\n",
      "\t\t nan: 3\n",
      "\t Free and/or Open Source Software License (FOSS): 2\n",
      "\t Patent (product, process, design or software): 0\n",
      "\t Creative Commons (CC) Licenses: 1\n"
     ]
    }
   ],
   "source": [
    "print_sieve_answers(df, qs[49], qs[51])"
   ]
  },
  {
   "cell_type": "code",
   "execution_count": 5,
   "metadata": {
    "collapsed": false
   },
   "outputs": [
    {
     "name": "stdout",
     "output_type": "stream",
     "text": [
      "# Trademark / Service mark: 18\n",
      "\t To get those who are copying our work to stop: 7\n",
      "\t To prevent others from copying our work: 9\n",
      "\t To prevent others from litigating against us for copying their work: 10\n",
      "\t## Other\n",
      "\t\t nan: 18\n",
      "\t To prove that we are the creators of the work: 13\n",
      "\t To litigate against others for copying our work: 4\n",
      "\t Unsure / I would rather not say: 2\n",
      "\t N/A - We do not have products / are not interested in protection: 0\n",
      "# Digital Rights Management (DRM) / Technical Protection Mechanisms (TPM): 8\n",
      "\t To get those who are copying our work to stop: 3\n",
      "\t To prevent others from copying our work: 3\n",
      "\t To prevent others from litigating against us for copying their work: 4\n",
      "\t## Other\n",
      "\t\t nan: 8\n",
      "\t To prove that we are the creators of the work: 4\n",
      "\t To litigate against others for copying our work: 3\n",
      "\t Unsure / I would rather not say: 2\n",
      "\t N/A - We do not have products / are not interested in protection: 0\n",
      "# Copyright: 32\n",
      "\t To get those who are copying our work to stop: 10\n",
      "\t To prevent others from copying our work: 14\n",
      "\t To prevent others from litigating against us for copying their work: 15\n",
      "\t## Other\n",
      "\t\t nan: 32\n",
      "\t To prove that we are the creators of the work: 21\n",
      "\t To litigate against others for copying our work: 7\n",
      "\t Unsure / I would rather not say: 5\n",
      "\t N/A - We do not have products / are not interested in protection: 2\n",
      "# Unsure / I would rather not say: 16\n",
      "\t To get those who are copying our work to stop: 2\n",
      "\t To prevent others from copying our work: 7\n",
      "\t To prevent others from litigating against us for copying their work: 3\n",
      "\t## Other\n",
      "\t\t nan: 16\n",
      "\t To prove that we are the creators of the work: 6\n",
      "\t To litigate against others for copying our work: 2\n",
      "\t Unsure / I would rather not say: 7\n",
      "\t N/A - We do not have products / are not interested in protection: 0\n",
      "# N/A - Ownership of all my work is assigned to clients: 7\n",
      "\t To get those who are copying our work to stop: 0\n",
      "\t To prevent others from copying our work: 1\n",
      "\t To prevent others from litigating against us for copying their work: 1\n",
      "\t## Other\n",
      "\t\t nan: 7\n",
      "\t To prove that we are the creators of the work: 1\n",
      "\t To litigate against others for copying our work: 1\n",
      "\t Unsure / I would rather not say: 4\n",
      "\t N/A - We do not have products / are not interested in protection: 0\n",
      "# Trade secret: 7\n",
      "\t To get those who are copying our work to stop: 2\n",
      "\t To prevent others from copying our work: 3\n",
      "\t To prevent others from litigating against us for copying their work: 3\n",
      "\t## Other\n",
      "\t\t nan: 7\n",
      "\t To prove that we are the creators of the work: 1\n",
      "\t To litigate against others for copying our work: 1\n",
      "\t Unsure / I would rather not say: 1\n",
      "\t N/A - We do not have products / are not interested in protection: 0\n",
      "# Free and/or Open Source Software License (FOSS): 15\n",
      "\t To get those who are copying our work to stop: 3\n",
      "\t To prevent others from copying our work: 7\n",
      "\t To prevent others from litigating against us for copying their work: 4\n",
      "\t## Other\n",
      "\t\t nan: 15\n",
      "\t To prove that we are the creators of the work: 12\n",
      "\t To litigate against others for copying our work: 2\n",
      "\t Unsure / I would rather not say: 2\n",
      "\t N/A - We do not have products / are not interested in protection: 2\n",
      "# Patent (product, process, design or software): 13\n",
      "\t To get those who are copying our work to stop: 4\n",
      "\t To prevent others from copying our work: 5\n",
      "\t To prevent others from litigating against us for copying their work: 6\n",
      "\t## Other\n",
      "\t\t nan: 13\n",
      "\t To prove that we are the creators of the work: 8\n",
      "\t To litigate against others for copying our work: 4\n",
      "\t Unsure / I would rather not say: 3\n",
      "\t N/A - We do not have products / are not interested in protection: 0\n",
      "# Creative Commons (CC) Licenses: 11\n",
      "\t To get those who are copying our work to stop: 3\n",
      "\t To prevent others from copying our work: 7\n",
      "\t To prevent others from litigating against us for copying their work: 4\n",
      "\t## Other\n",
      "\t\t nan: 11\n",
      "\t To prove that we are the creators of the work: 9\n",
      "\t To litigate against others for copying our work: 2\n",
      "\t Unsure / I would rather not say: 1\n",
      "\t N/A - We do not have products / are not interested in protection: 1\n"
     ]
    }
   ],
   "source": [
    "print_sieve_answers(df, qs[51], qs[49])"
   ]
  },
  {
   "cell_type": "markdown",
   "metadata": {},
   "source": [
    "## 3. What is the objective of protecting the app product and which is the preferred/desirable mechanism to achieve it?   (Q51 and Q50) "
   ]
  },
  {
   "cell_type": "code",
   "execution_count": 6,
   "metadata": {
    "collapsed": false
   },
   "outputs": [
    {
     "name": "stdout",
     "output_type": "stream",
     "text": [
      "# To get those who are copying our work to stop: 17\n",
      "\t Trademark / Service mark: 4\n",
      "\t Digital Rights Management (DRM) / Technical Protection Mechanisms (TPM): 7\n",
      "\t Patent (product, process, design, or software): 8\n",
      "\t Copyright: 10\n",
      "\t N/A - We do not have products / do not plan to protect our products: 0\n",
      "\t Trade secret: 4\n",
      "\t## Other\n",
      "\t\t nan: 17\n",
      "\t Free and/or Open Source Software License (FOSS): 4\n",
      "\t Creative Commons (CC) Licenses: 4\n",
      "\t Unsure / I would rather not say: 3\n",
      "# To prevent others from copying our work: 26\n",
      "\t Trademark / Service mark: 8\n",
      "\t Digital Rights Management (DRM) / Technical Protection Mechanisms (TPM): 8\n",
      "\t Patent (product, process, design, or software): 13\n",
      "\t Copyright: 16\n",
      "\t N/A - We do not have products / do not plan to protect our products: 0\n",
      "\t Trade secret: 6\n",
      "\t## Other\n",
      "\t\t nan: 25\n",
      "\t\t I don't know a way for this: 1\n",
      "\t Free and/or Open Source Software License (FOSS): 7\n",
      "\t Creative Commons (CC) Licenses: 9\n",
      "\t Unsure / I would rather not say: 4\n",
      "# To prevent others from litigating against us for copying their work: 22\n",
      "\t Trademark / Service mark: 6\n",
      "\t Digital Rights Management (DRM) / Technical Protection Mechanisms (TPM): 7\n",
      "\t Patent (product, process, design, or software): 13\n",
      "\t Copyright: 13\n",
      "\t N/A - We do not have products / do not plan to protect our products: 1\n",
      "\t Trade secret: 4\n",
      "\t## Other\n",
      "\t\t nan: 22\n",
      "\t Free and/or Open Source Software License (FOSS): 6\n",
      "\t Creative Commons (CC) Licenses: 9\n",
      "\t Unsure / I would rather not say: 2\n",
      "# To prove that we are the creators of the work: 33\n",
      "\t Trademark / Service mark: 11\n",
      "\t Digital Rights Management (DRM) / Technical Protection Mechanisms (TPM): 8\n",
      "\t Patent (product, process, design, or software): 16\n",
      "\t Copyright: 19\n",
      "\t N/A - We do not have products / do not plan to protect our products: 1\n",
      "\t Trade secret: 5\n",
      "\t## Other\n",
      "\t\t nan: 33\n",
      "\t Free and/or Open Source Software License (FOSS): 12\n",
      "\t Creative Commons (CC) Licenses: 15\n",
      "\t Unsure / I would rather not say: 5\n",
      "# To litigate against others for copying our work: 11\n",
      "\t Trademark / Service mark: 4\n",
      "\t Digital Rights Management (DRM) / Technical Protection Mechanisms (TPM): 7\n",
      "\t Patent (product, process, design, or software): 7\n",
      "\t Copyright: 7\n",
      "\t N/A - We do not have products / do not plan to protect our products: 0\n",
      "\t Trade secret: 3\n",
      "\t## Other\n",
      "\t\t nan: 11\n",
      "\t Free and/or Open Source Software License (FOSS): 2\n",
      "\t Creative Commons (CC) Licenses: 3\n",
      "\t Unsure / I would rather not say: 1\n",
      "# Unsure / I would rather not say: 15\n",
      "\t Trademark / Service mark: 1\n",
      "\t Digital Rights Management (DRM) / Technical Protection Mechanisms (TPM): 1\n",
      "\t Patent (product, process, design, or software): 2\n",
      "\t Copyright: 5\n",
      "\t N/A - We do not have products / do not plan to protect our products: 0\n",
      "\t Trade secret: 1\n",
      "\t## Other\n",
      "\t\t nan: 15\n",
      "\t Free and/or Open Source Software License (FOSS): 1\n",
      "\t Creative Commons (CC) Licenses: 1\n",
      "\t Unsure / I would rather not say: 10\n",
      "# N/A - We do not have products / are not interested in protection: 3\n",
      "\t Trademark / Service mark: 1\n",
      "\t Digital Rights Management (DRM) / Technical Protection Mechanisms (TPM): 0\n",
      "\t Patent (product, process, design, or software): 0\n",
      "\t Copyright: 1\n",
      "\t N/A - We do not have products / do not plan to protect our products: 0\n",
      "\t Trade secret: 0\n",
      "\t## Other\n",
      "\t\t nan: 3\n",
      "\t Free and/or Open Source Software License (FOSS): 2\n",
      "\t Creative Commons (CC) Licenses: 1\n",
      "\t Unsure / I would rather not say: 1\n"
     ]
    }
   ],
   "source": [
    "print_sieve_answers(df, qs[50], qs[51])"
   ]
  },
  {
   "cell_type": "code",
   "execution_count": 7,
   "metadata": {
    "collapsed": false
   },
   "outputs": [
    {
     "name": "stdout",
     "output_type": "stream",
     "text": [
      "# Trademark / Service mark: 15\n",
      "\t To get those who are copying our work to stop: 4\n",
      "\t To prevent others from copying our work: 8\n",
      "\t To prevent others from litigating against us for copying their work: 6\n",
      "\t## Other\n",
      "\t\t nan: 15\n",
      "\t To prove that we are the creators of the work: 11\n",
      "\t To litigate against others for copying our work: 4\n",
      "\t Unsure / I would rather not say: 1\n",
      "\t N/A - We do not have products / are not interested in protection: 1\n",
      "# Digital Rights Management (DRM) / Technical Protection Mechanisms (TPM): 16\n",
      "\t To get those who are copying our work to stop: 7\n",
      "\t To prevent others from copying our work: 8\n",
      "\t To prevent others from litigating against us for copying their work: 7\n",
      "\t## Other\n",
      "\t\t nan: 16\n",
      "\t To prove that we are the creators of the work: 8\n",
      "\t To litigate against others for copying our work: 7\n",
      "\t Unsure / I would rather not say: 1\n",
      "\t N/A - We do not have products / are not interested in protection: 0\n",
      "# Patent (product, process, design, or software): 27\n",
      "\t To get those who are copying our work to stop: 8\n",
      "\t To prevent others from copying our work: 13\n",
      "\t To prevent others from litigating against us for copying their work: 13\n",
      "\t## Other\n",
      "\t\t nan: 26\n",
      "\t\t As a sales / investor pitch , proven innovation speaks a lot about the team.: 1\n",
      "\t To prove that we are the creators of the work: 16\n",
      "\t To litigate against others for copying our work: 7\n",
      "\t Unsure / I would rather not say: 2\n",
      "\t N/A - We do not have products / are not interested in protection: 0\n",
      "# Copyright: 32\n",
      "\t To get those who are copying our work to stop: 10\n",
      "\t To prevent others from copying our work: 16\n",
      "\t To prevent others from litigating against us for copying their work: 13\n",
      "\t## Other\n",
      "\t\t nan: 31\n",
      "\t\t As a sales / investor pitch , proven innovation speaks a lot about the team.: 1\n",
      "\t To prove that we are the creators of the work: 19\n",
      "\t To litigate against others for copying our work: 7\n",
      "\t Unsure / I would rather not say: 5\n",
      "\t N/A - We do not have products / are not interested in protection: 1\n",
      "# N/A - We do not have products / do not plan to protect our products: 1\n",
      "\t To get those who are copying our work to stop: 0\n",
      "\t To prevent others from copying our work: 0\n",
      "\t To prevent others from litigating against us for copying their work: 1\n",
      "\t## Other\n",
      "\t\t nan: 1\n",
      "\t To prove that we are the creators of the work: 1\n",
      "\t To litigate against others for copying our work: 0\n",
      "\t Unsure / I would rather not say: 0\n",
      "\t N/A - We do not have products / are not interested in protection: 0\n",
      "# Trade secret: 9\n",
      "\t To get those who are copying our work to stop: 4\n",
      "\t To prevent others from copying our work: 6\n",
      "\t To prevent others from litigating against us for copying their work: 4\n",
      "\t## Other\n",
      "\t\t nan: 9\n",
      "\t To prove that we are the creators of the work: 5\n",
      "\t To litigate against others for copying our work: 3\n",
      "\t Unsure / I would rather not say: 1\n",
      "\t N/A - We do not have products / are not interested in protection: 0\n",
      "# Free and/or Open Source Software License (FOSS): 15\n",
      "\t To get those who are copying our work to stop: 4\n",
      "\t To prevent others from copying our work: 7\n",
      "\t To prevent others from litigating against us for copying their work: 6\n",
      "\t## Other\n",
      "\t\t nan: 15\n",
      "\t To prove that we are the creators of the work: 12\n",
      "\t To litigate against others for copying our work: 2\n",
      "\t Unsure / I would rather not say: 1\n",
      "\t N/A - We do not have products / are not interested in protection: 2\n",
      "# Creative Commons (CC) Licenses: 18\n",
      "\t To get those who are copying our work to stop: 4\n",
      "\t To prevent others from copying our work: 9\n",
      "\t To prevent others from litigating against us for copying their work: 9\n",
      "\t## Other\n",
      "\t\t nan: 16\n",
      "\t\t we let others to copy: 1\n",
      "\t\t As a sales / investor pitch , proven innovation speaks a lot about the team.: 1\n",
      "\t To prove that we are the creators of the work: 15\n",
      "\t To litigate against others for copying our work: 3\n",
      "\t Unsure / I would rather not say: 1\n",
      "\t N/A - We do not have products / are not interested in protection: 1\n",
      "# Unsure / I would rather not say: 17\n",
      "\t To get those who are copying our work to stop: 3\n",
      "\t To prevent others from copying our work: 4\n",
      "\t To prevent others from litigating against us for copying their work: 2\n",
      "\t## Other\n",
      "\t\t nan: 17\n",
      "\t To prove that we are the creators of the work: 5\n",
      "\t To litigate against others for copying our work: 1\n",
      "\t Unsure / I would rather not say: 10\n",
      "\t N/A - We do not have products / are not interested in protection: 1\n"
     ]
    }
   ],
   "source": [
    "print_sieve_answers(df, qs[51], qs[50])"
   ]
  },
  {
   "cell_type": "markdown",
   "metadata": {},
   "source": [
    "## 5. What is the enterprise’s objective of sharing the code and which license is used to achieve that? (Q 32 v Q 31)"
   ]
  },
  {
   "cell_type": "code",
   "execution_count": 8,
   "metadata": {
    "collapsed": false
   },
   "outputs": [
    {
     "name": "stdout",
     "output_type": "stream",
     "text": [
      "# Unsure: 9\n",
      "\t N/A - I do not license my code: 3\n",
      "\t Unsure / I would rather not say: 4\n",
      "\t Copyright license: 2\n",
      "\t Free / Open source license: 1\n",
      "\t Unlicense (release into public domain): 0\n",
      "# To use the code: 21\n",
      "\t N/A - I do not license my code: 2\n",
      "\t Unsure / I would rather not say: 0\n",
      "\t Copyright license: 11\n",
      "\t Free / Open source license: 15\n",
      "\t Unlicense (release into public domain): 4\n",
      "# To view the code: 18\n",
      "\t N/A - I do not license my code: 2\n",
      "\t Unsure / I would rather not say: 0\n",
      "\t Copyright license: 8\n",
      "\t Free / Open source license: 14\n",
      "\t Unlicense (release into public domain): 5\n",
      "# To modify the code for their works: 16\n",
      "\t N/A - I do not license my code: 1\n",
      "\t Unsure / I would rather not say: 0\n",
      "\t Copyright license: 9\n",
      "\t Free / Open source license: 12\n",
      "\t Unlicense (release into public domain): 4\n",
      "# Nothing at all: 17\n",
      "\t N/A - I do not license my code: 8\n",
      "\t Unsure / I would rather not say: 3\n",
      "\t Copyright license: 6\n",
      "\t Free / Open source license: 2\n",
      "\t Unlicense (release into public domain): 0\n",
      "# To sell their works created with the code: 14\n",
      "\t N/A - I do not license my code: 2\n",
      "\t Unsure / I would rather not say: 0\n",
      "\t Copyright license: 8\n",
      "\t Free / Open source license: 9\n",
      "\t Unlicense (release into public domain): 3\n",
      "# To distribute copies of the code to others: 12\n",
      "\t N/A - I do not license my code: 1\n",
      "\t Unsure / I would rather not say: 0\n",
      "\t Copyright license: 6\n",
      "\t Free / Open source license: 10\n",
      "\t Unlicense (release into public domain): 4\n",
      "# To contribute bugfixes/patches back to us: 19\n",
      "\t N/A - I do not license my code: 2\n",
      "\t Unsure / I would rather not say: 0\n",
      "\t Copyright license: 10\n",
      "\t Free / Open source license: 14\n",
      "\t Unlicense (release into public domain): 4\n"
     ]
    }
   ],
   "source": [
    "print_sieve_answers(df, qs[31], qs[32])"
   ]
  },
  {
   "cell_type": "code",
   "execution_count": 9,
   "metadata": {
    "collapsed": false,
    "scrolled": true
   },
   "outputs": [
    {
     "name": "stdout",
     "output_type": "stream",
     "text": [
      "# N/A - I do not license my code: 16\n",
      "\t Unsure: 3\n",
      "\t To use the code: 2\n",
      "\t To view the code: 2\n",
      "\t To modify the code for their works: 1\n",
      "\t Nothing at all: 8\n",
      "\t To sell their works created with the code: 2\n",
      "\t To distribute copies of the code to others: 1\n",
      "\t To contribute bugfixes/patches back to us: 2\n",
      "# Unsure / I would rather not say: 7\n",
      "\t Unsure: 4\n",
      "\t To use the code: 0\n",
      "\t To view the code: 0\n",
      "\t To modify the code for their works: 0\n",
      "\t Nothing at all: 3\n",
      "\t To sell their works created with the code: 0\n",
      "\t To distribute copies of the code to others: 0\n",
      "\t To contribute bugfixes/patches back to us: 0\n",
      "# Copyright license: 25\n",
      "\t Unsure: 2\n",
      "\t To use the code: 11\n",
      "\t To view the code: 8\n",
      "\t To modify the code for their works: 9\n",
      "\t Nothing at all: 6\n",
      "\t To sell their works created with the code: 8\n",
      "\t To distribute copies of the code to others: 6\n",
      "\t To contribute bugfixes/patches back to us: 10\n",
      "# Free / Open source license: 18\n",
      "\t Unsure: 1\n",
      "\t To use the code: 15\n",
      "\t To view the code: 14\n",
      "\t To modify the code for their works: 12\n",
      "\t Nothing at all: 2\n",
      "\t To sell their works created with the code: 9\n",
      "\t To distribute copies of the code to others: 10\n",
      "\t To contribute bugfixes/patches back to us: 14\n",
      "# Unlicense (release into public domain): 5\n",
      "\t Unsure: 0\n",
      "\t To use the code: 4\n",
      "\t To view the code: 5\n",
      "\t To modify the code for their works: 4\n",
      "\t Nothing at all: 0\n",
      "\t To sell their works created with the code: 3\n",
      "\t To distribute copies of the code to others: 4\n",
      "\t To contribute bugfixes/patches back to us: 4\n"
     ]
    }
   ],
   "source": [
    "print_sieve_answers(df, qs[32], qs[31])"
   ]
  },
  {
   "cell_type": "markdown",
   "metadata": {},
   "source": [
    "## 7. While achieving the enterprise’s objective WRT to question 32, what would the respondent require from others? (Q33 and Q31)"
   ]
  },
  {
   "cell_type": "code",
   "execution_count": 10,
   "metadata": {
    "collapsed": false
   },
   "outputs": [
    {
     "name": "stdout",
     "output_type": "stream",
     "text": [
      "# Unsure: 9\n",
      "\t N/A - I do not license my code: 2\n",
      "\t Unsure / I would rather not say: 5\n",
      "\t Copyright license: 2\n",
      "\t Free / Open source license: 1\n",
      "\t Unlicense (release into public domain): 0\n",
      "# To credit us: 26\n",
      "\t N/A - I do not license my code: 6\n",
      "\t Unsure / I would rather not say: 1\n",
      "\t Copyright license: 11\n",
      "\t Free / Open source license: 11\n",
      "\t Unlicense (release into public domain): 3\n",
      "# Nothing at all: 9\n",
      "\t N/A - I do not license my code: 5\n",
      "\t Unsure / I would rather not say: 1\n",
      "\t Copyright license: 3\n",
      "\t Free / Open source license: 3\n",
      "\t Unlicense (release into public domain): 1\n",
      "# Not to do so for commercial purposes: 9\n",
      "\t N/A - I do not license my code: 0\n",
      "\t Unsure / I would rather not say: 0\n",
      "\t Copyright license: 7\n",
      "\t Free / Open source license: 4\n",
      "\t Unlicense (release into public domain): 1\n",
      "# To pay a royalty: 6\n",
      "\t N/A - I do not license my code: 2\n",
      "\t Unsure / I would rather not say: 1\n",
      "\t Copyright license: 3\n",
      "\t Free / Open source license: 0\n",
      "\t Unlicense (release into public domain): 0\n",
      "# To license their work under the same terms: 8\n",
      "\t N/A - I do not license my code: 1\n",
      "\t Unsure / I would rather not say: 0\n",
      "\t Copyright license: 2\n",
      "\t Free / Open source license: 5\n",
      "\t Unlicense (release into public domain): 1\n"
     ]
    }
   ],
   "source": [
    "print_sieve_answers(df, qs[31], qs[33])"
   ]
  },
  {
   "cell_type": "code",
   "execution_count": 11,
   "metadata": {
    "collapsed": false,
    "scrolled": true
   },
   "outputs": [
    {
     "name": "stdout",
     "output_type": "stream",
     "text": [
      "# N/A - I do not license my code: 16\n",
      "\t Unsure: 2\n",
      "\t To credit us: 6\n",
      "\t Nothing at all: 5\n",
      "\t Not to do so for commercial purposes: 0\n",
      "\t## Other\n",
      "\t\t nan: 15\n",
      "\t\t Not Applicable - we will not share code: 1\n",
      "\t To pay a royalty: 2\n",
      "\t To license their work under the same terms: 1\n",
      "# Unsure / I would rather not say: 7\n",
      "\t Unsure: 5\n",
      "\t To credit us: 1\n",
      "\t Nothing at all: 1\n",
      "\t Not to do so for commercial purposes: 0\n",
      "\t## Other\n",
      "\t\t nan: 7\n",
      "\t To pay a royalty: 1\n",
      "\t To license their work under the same terms: 0\n",
      "# Copyright license: 25\n",
      "\t Unsure: 2\n",
      "\t To credit us: 11\n",
      "\t Nothing at all: 3\n",
      "\t Not to do so for commercial purposes: 7\n",
      "\t## Other\n",
      "\t\t nan: 25\n",
      "\t To pay a royalty: 3\n",
      "\t To license their work under the same terms: 2\n",
      "# Free / Open source license: 18\n",
      "\t Unsure: 1\n",
      "\t To credit us: 11\n",
      "\t Nothing at all: 3\n",
      "\t Not to do so for commercial purposes: 4\n",
      "\t## Other\n",
      "\t\t nan: 18\n",
      "\t To pay a royalty: 0\n",
      "\t To license their work under the same terms: 5\n",
      "# Unlicense (release into public domain): 5\n",
      "\t Unsure: 0\n",
      "\t To credit us: 3\n",
      "\t Nothing at all: 1\n",
      "\t Not to do so for commercial purposes: 1\n",
      "\t## Other\n",
      "\t\t nan: 5\n",
      "\t To pay a royalty: 0\n",
      "\t To license their work under the same terms: 1\n"
     ]
    }
   ],
   "source": [
    "print_sieve_answers(df, qs[33], qs[31])"
   ]
  },
  {
   "cell_type": "markdown",
   "metadata": {},
   "source": [
    "## 9. “How do you access code created by others?” vs “How do you license your code upon sharing it?” (Q 34 and Q 31)"
   ]
  },
  {
   "cell_type": "code",
   "execution_count": 12,
   "metadata": {
    "collapsed": false
   },
   "outputs": [
    {
     "name": "stdout",
     "output_type": "stream",
     "text": [
      "# Unsure / I would rather not say: 3\n",
      "\t N/A - I do not license my code: 0\n",
      "\t Unsure / I would rather not say: 1\n",
      "\t Copyright license: 2\n",
      "\t Free / Open source license: 1\n",
      "\t Unlicense (release into public domain): 0\n",
      "# N/A - I do not use code created by others: 2\n",
      "\t N/A - I do not license my code: 2\n",
      "\t Unsure / I would rather not say: 0\n",
      "\t Copyright license: 0\n",
      "\t Free / Open source license: 0\n",
      "\t Unlicense (release into public domain): 0\n",
      "# Online marketplace for app components: 8\n",
      "\t N/A - I do not license my code: 3\n",
      "\t Unsure / I would rather not say: 0\n",
      "\t Copyright license: 2\n",
      "\t Free / Open source license: 4\n",
      "\t Unlicense (release into public domain): 2\n",
      "# Conferences / Meet ups: 5\n",
      "\t N/A - I do not license my code: 1\n",
      "\t Unsure / I would rather not say: 0\n",
      "\t Copyright license: 3\n",
      "\t Free / Open source license: 3\n",
      "\t Unlicense (release into public domain): 1\n",
      "# Personally (one-on-one): 13\n",
      "\t N/A - I do not license my code: 3\n",
      "\t Unsure / I would rather not say: 2\n",
      "\t Copyright license: 6\n",
      "\t Free / Open source license: 6\n",
      "\t Unlicense (release into public domain): 1\n",
      "# Online communities / forums: 26\n",
      "\t N/A - I do not license my code: 9\n",
      "\t Unsure / I would rather not say: 2\n",
      "\t Copyright license: 10\n",
      "\t Free / Open source license: 10\n",
      "\t Unlicense (release into public domain): 4\n",
      "# Online libraries / directories: 35\n",
      "\t N/A - I do not license my code: 9\n",
      "\t Unsure / I would rather not say: 5\n",
      "\t Copyright license: 16\n",
      "\t Free / Open source license: 10\n",
      "\t Unlicense (release into public domain): 5\n",
      "# Reverse-engineering / decompilation: 4\n",
      "\t N/A - I do not license my code: 1\n",
      "\t Unsure / I would rather not say: 1\n",
      "\t Copyright license: 2\n",
      "\t Free / Open source license: 0\n",
      "\t Unlicense (release into public domain): 0\n"
     ]
    }
   ],
   "source": [
    "print_sieve_answers(df, qs[31], qs[34])"
   ]
  },
  {
   "cell_type": "markdown",
   "metadata": {},
   "source": [
    "## 10. How often someone decompiles an app vs for what reason do they decompile an app? (Q 37 vs Q38)"
   ]
  },
  {
   "cell_type": "code",
   "execution_count": 13,
   "metadata": {
    "collapsed": false,
    "scrolled": true
   },
   "outputs": [
    {
     "name": "stdout",
     "output_type": "stream",
     "text": [
      "# To try to solve a problem faced in app development: 14\n",
      "\t Some of the time: 6\n",
      "\t Unsure / I would rather not say: 1\n",
      "\t None of the time: 7\n",
      "# To monitor / analyze app activity: 8\n",
      "\t Some of the time: 3\n",
      "\t Unsure / I would rather not say: 2\n",
      "\t None of the time: 3\n",
      "# N/A - I have not reverse engineered / decompiled an app: 28\n",
      "\t Some of the time: 1\n",
      "\t N/A - I have not reverse engineered / decompiled an app: 16\n",
      "\t None of the time: 11\n",
      "# To understand how another app functions: 12\n",
      "\t Some of the time: 4\n",
      "\t Unsure / I would rather not say: 3\n",
      "\t None of the time: 5\n",
      "# For component not available under open source: 4\n",
      "\t Some of the time: 2\n",
      "\t Unsure / I would rather not say: 1\n",
      "\t None of the time: 1\n",
      "# Unsure / I would rather not say: 3\n",
      "\t Some of the time: 1\n",
      "\t Unsure / I would rather not say: 1\n",
      "\t None of the time: 1\n",
      "# To save time in coding: 2\n",
      "\t Some of the time: 1\n",
      "\t Unsure / I would rather not say: 1\n"
     ]
    }
   ],
   "source": [
    "print_sieve_answers(df, qs[38], qs[37])"
   ]
  },
  {
   "cell_type": "markdown",
   "metadata": {},
   "source": [
    "## 11. How concerned are respondents about potential infringement depending on their objectives of reverse engineering? (Q 37 and Q 39)"
   ]
  },
  {
   "cell_type": "code",
   "execution_count": 14,
   "metadata": {
    "collapsed": false
   },
   "outputs": [
    {
     "name": "stdout",
     "output_type": "stream",
     "text": [
      "# To try to solve a problem faced in app development: 14\n",
      "\t Very: 7\n",
      "\t Not really: 4\n",
      "\t Unsure / I would rather not say: 1\n",
      "\t Somewhat: 1\n",
      "\t No: 1\n",
      "# To monitor / analyze app activity: 8\n",
      "\t Very: 3\n",
      "\t Not really: 2\n",
      "\t Unsure / I would rather not say: 1\n",
      "\t Somewhat: 2\n",
      "# N/A - I have not reverse engineered / decompiled an app: 28\n",
      "\t Very: 10\n",
      "\t Unsure / I would rather not say: 8\n",
      "\t Not really: 1\n",
      "\t Somewhat: 7\n",
      "\t No: 2\n",
      "# To understand how another app functions: 12\n",
      "\t Very: 6\n",
      "\t Not really: 2\n",
      "\t Unsure / I would rather not say: 1\n",
      "\t Somewhat: 2\n",
      "\t No: 1\n",
      "# For component not available under open source: 4\n",
      "\t Very: 1\n",
      "\t Not really: 2\n",
      "\t Unsure / I would rather not say: 1\n",
      "# Unsure / I would rather not say: 3\n",
      "\t Very: 2\n",
      "\t Somewhat: 1\n",
      "# To save time in coding: 2\n",
      "\t Not really: 1\n",
      "\t Unsure / I would rather not say: 1\n"
     ]
    }
   ],
   "source": [
    "print_sieve_answers(df,qs[39], qs[37])"
   ]
  },
  {
   "cell_type": "code",
   "execution_count": 15,
   "metadata": {
    "collapsed": false,
    "scrolled": true
   },
   "outputs": [
    {
     "name": "stdout",
     "output_type": "stream",
     "text": [
      "# nan: 209\n",
      "\t## To try to solve a problem faced in app development\n",
      "\t## To monitor / analyze app activity\n",
      "\t## N/A - I have not reverse engineered / decompiled an app\n",
      "\t## To understand how another app functions\n",
      "\t## For component not available under open source\n",
      "\t## Other\n",
      "\t## Unsure / I would rather not say\n",
      "\t## To save time in coding\n",
      "# Somewhat: 11\n",
      "\t To try to solve a problem faced in app development: 1\n",
      "\t To monitor / analyze app activity: 2\n",
      "\t N/A - I have not reverse engineered / decompiled an app: 7\n",
      "\t To understand how another app functions: 2\n",
      "\t For component not available under open source: 0\n",
      "\t## Other\n",
      "\t\t nan: 11\n",
      "\t Unsure / I would rather not say: 1\n",
      "\t To save time in coding: 0\n",
      "# No: 3\n",
      "\t To try to solve a problem faced in app development: 1\n",
      "\t To monitor / analyze app activity: 0\n",
      "\t N/A - I have not reverse engineered / decompiled an app: 2\n",
      "\t To understand how another app functions: 1\n",
      "\t For component not available under open source: 0\n",
      "\t## Other\n",
      "\t\t nan: 3\n",
      "\t Unsure / I would rather not say: 0\n",
      "\t To save time in coding: 0\n",
      "# Very: 20\n",
      "\t To try to solve a problem faced in app development: 7\n",
      "\t To monitor / analyze app activity: 3\n",
      "\t N/A - I have not reverse engineered / decompiled an app: 10\n",
      "\t To understand how another app functions: 6\n",
      "\t For component not available under open source: 1\n",
      "\t## Other\n",
      "\t\t nan: 18\n",
      "\t\t Havent decompiled an app, but have looked at JavaScript: 1\n",
      "\t\t Small tweaks suiting personal requirements: 1\n",
      "\t Unsure / I would rather not say: 2\n",
      "\t To save time in coding: 0\n",
      "# Not really: 5\n",
      "\t To try to solve a problem faced in app development: 4\n",
      "\t To monitor / analyze app activity: 2\n",
      "\t N/A - I have not reverse engineered / decompiled an app: 1\n",
      "\t To understand how another app functions: 2\n",
      "\t For component not available under open source: 2\n",
      "\t## Other\n",
      "\t\t nan: 5\n",
      "\t Unsure / I would rather not say: 0\n",
      "\t To save time in coding: 1\n",
      "# Unsure / I would rather not say: 9\n",
      "\t To try to solve a problem faced in app development: 1\n",
      "\t To monitor / analyze app activity: 1\n",
      "\t N/A - I have not reverse engineered / decompiled an app: 8\n",
      "\t To understand how another app functions: 1\n",
      "\t For component not available under open source: 1\n",
      "\t## Other\n",
      "\t\t nan: 9\n",
      "\t Unsure / I would rather not say: 0\n",
      "\t To save time in coding: 1\n"
     ]
    }
   ],
   "source": [
    "print_sieve_answers(df, qs[37], qs[39])"
   ]
  },
  {
   "cell_type": "markdown",
   "metadata": {},
   "source": [
    "## 13. Concern about infringing  other’s right vs. frequency of decompilation (Q38 and Q39)"
   ]
  },
  {
   "cell_type": "code",
   "execution_count": 16,
   "metadata": {
    "collapsed": false
   },
   "outputs": [
    {
     "name": "stdout",
     "output_type": "stream",
     "text": [
      "# nan: 209\n",
      "# Somewhat: 11\n",
      "\t Some of the time: 1\n",
      "\t Unsure / I would rather not say: 2\n",
      "\t N/A - I have not reverse engineered / decompiled an app: 5\n",
      "\t None of the time: 3\n",
      "# No: 3\n",
      "\t Some of the time: 1\n",
      "\t N/A - I have not reverse engineered / decompiled an app: 1\n",
      "\t None of the time: 1\n",
      "# Very: 20\n",
      "\t Some of the time: 5\n",
      "\t Unsure / I would rather not say: 1\n",
      "\t N/A - I have not reverse engineered / decompiled an app: 4\n",
      "\t None of the time: 10\n",
      "# Not really: 5\n",
      "\t Some of the time: 1\n",
      "\t None of the time: 3\n",
      "\t N/A - I have not reverse engineered / decompiled an app: 1\n",
      "# Unsure / I would rather not say: 9\n",
      "\t Some of the time: 1\n",
      "\t Unsure / I would rather not say: 1\n",
      "\t N/A - I have not reverse engineered / decompiled an app: 5\n",
      "\t None of the time: 2\n"
     ]
    }
   ],
   "source": [
    "print_sieve_answers(df, qs[38], qs[39])"
   ]
  },
  {
   "cell_type": "markdown",
   "metadata": {},
   "source": [
    "## 14. “How often do you license your mobile app code for your enterprise upon sharing it with others or in the app store?” vs. “How do you license your code upon sharing it?” (Q 30 and 31)"
   ]
  },
  {
   "cell_type": "code",
   "execution_count": 17,
   "metadata": {
    "collapsed": false,
    "scrolled": true
   },
   "outputs": [
    {
     "name": "stdout",
     "output_type": "stream",
     "text": [
      "# nan: 200\n",
      "\t## N/A - I do not license my code\n",
      "\t## Unsure / I would rather not say\n",
      "\t## Copyright license\n",
      "\t## Free / Open source license\n",
      "\t## Unlicense (release into public domain)\n",
      "# Never: 8\n",
      "\t N/A - I do not license my code: 7\n",
      "\t Unsure / I would rather not say: 1\n",
      "\t Copyright license: 0\n",
      "\t Free / Open source license: 1\n",
      "\t Unlicense (release into public domain): 1\n",
      "# N/A - I do not share my code with others: 10\n",
      "\t N/A - I do not license my code: 8\n",
      "\t Unsure / I would rather not say: 0\n",
      "\t Copyright license: 2\n",
      "\t Free / Open source license: 0\n",
      "\t Unlicense (release into public domain): 0\n",
      "# Mostly: 6\n",
      "\t N/A - I do not license my code: 0\n",
      "\t Unsure / I would rather not say: 0\n",
      "\t Copyright license: 6\n",
      "\t Free / Open source license: 1\n",
      "\t Unlicense (release into public domain): 0\n",
      "# Always: 9\n",
      "\t N/A - I do not license my code: 0\n",
      "\t Unsure / I would rather not say: 0\n",
      "\t Copyright license: 7\n",
      "\t Free / Open source license: 7\n",
      "\t Unlicense (release into public domain): 1\n",
      "# Unsure / I would rather not say: 12\n",
      "\t N/A - I do not license my code: 1\n",
      "\t Unsure / I would rather not say: 6\n",
      "\t Copyright license: 3\n",
      "\t Free / Open source license: 4\n",
      "\t Unlicense (release into public domain): 1\n",
      "# Sometimes: 12\n",
      "\t N/A - I do not license my code: 0\n",
      "\t Unsure / I would rather not say: 0\n",
      "\t Copyright license: 7\n",
      "\t Free / Open source license: 5\n",
      "\t Unlicense (release into public domain): 2\n"
     ]
    }
   ],
   "source": [
    "print_sieve_answers(df, qs[31], qs[30])"
   ]
  },
  {
   "cell_type": "markdown",
   "metadata": {},
   "source": [
    "## 15. “How do you license your designs?” vs. “How often do you license your designs upon sharing them with others or in the app store?”"
   ]
  },
  {
   "cell_type": "code",
   "execution_count": 18,
   "metadata": {
    "collapsed": false,
    "scrolled": true
   },
   "outputs": [
    {
     "name": "stdout",
     "output_type": "stream",
     "text": [
      "# Unlicense (release into public domain): 3\n",
      "\t Some of my designs: 1\n",
      "\t None of my designs: 2\n",
      "# N/A - I do not license my designs: 16\n",
      "\t Some of my designs: 1\n",
      "\t Most of my designs: 1\n",
      "\t None of my designs: 13\n",
      "\t Unsure / I would rather not say: 1\n",
      "# Unsure / I would rather not say: 7\n",
      "\t Some of my designs: 2\n",
      "\t None of my designs: 2\n",
      "\t Unsure / I would rather not say: 2\n",
      "\t All of my designs: 1\n",
      "# Copyright license: 12\n",
      "\t Some of my designs: 2\n",
      "\t Most of my designs: 2\n",
      "\t Unsure / I would rather not say: 2\n",
      "\t None of my designs: 3\n",
      "\t All of my designs: 3\n",
      "# Creative commons license: 5\n",
      "\t Some of my designs: 3\n",
      "\t Most of my designs: 1\n",
      "\t None of my designs: 1\n"
     ]
    }
   ],
   "source": [
    "print_sieve_answers(df, qs[40], qs[41])"
   ]
  },
  {
   "cell_type": "markdown",
   "metadata": {},
   "source": [
    "## 16. Combinations of mobile app protection techniques"
   ]
  },
  {
   "cell_type": "code",
   "execution_count": 19,
   "metadata": {
    "collapsed": false
   },
   "outputs": [
    {
     "data": {
      "text/plain": [
       "{'Copyright': 32,\n",
       " 'Creative Commons (CC) Licenses': 11,\n",
       " 'Digital Rights Management (DRM) / Technical Protection Mechanisms (TPM)': 8,\n",
       " 'Free and/or Open Source Software License (FOSS)': 15,\n",
       " 'N/A - Ownership of all my work is assigned to clients': 7,\n",
       " 'Other': {nan: 254,\n",
       "  \"Havent don't anything about it as yet , not sure if any of the options are effective and worth while ... Apps are so easy to copy, would rather focus on creating the next one rather than protecting turf ( aka music )\": 1,\n",
       "  \"I don't know a way for this\": 1,\n",
       "  'to be very frank nothing so far ': 1},\n",
       " 'Patent (product, process, design or software)': 13,\n",
       " 'Trade secret': 7,\n",
       " 'Trademark / Service mark': 18,\n",
       " 'Unsure / I would rather not say': 16}"
      ]
     },
     "execution_count": 19,
     "metadata": {},
     "output_type": "execute_result"
    }
   ],
   "source": [
    "get_answers(df, qs[49])"
   ]
  },
  {
   "cell_type": "code",
   "execution_count": 20,
   "metadata": {
    "collapsed": false,
    "scrolled": true
   },
   "outputs": [
    {
     "name": "stdout",
     "output_type": "stream",
     "text": [
      "\"Trademark / Service mark\" and \"Digital Rights Management (DRM) / Technical Protection Mechanisms (TPM)\": 5\n",
      "\"Trademark / Service mark\" and \"Copyright\": 15\n",
      "\"Trademark / Service mark\" and \"Unsure / I would rather not say\": 0\n",
      "\"Trademark / Service mark\" and \"N/A - Ownership of all my work is assigned to clients\": 0\n",
      "\"Trademark / Service mark\" and \"Trade secret\": 4\n",
      "\"Trademark / Service mark\" and \"Other\": 0\n",
      "\"Trademark / Service mark\" and \"Free and/or Open Source Software License (FOSS)\": 7\n",
      "\"Trademark / Service mark\" and \"Patent (product, process, design or software)\": 7\n",
      "\"Trademark / Service mark\" and \"Creative Commons (CC) Licenses\": 6\n",
      "\"Digital Rights Management (DRM) / Technical Protection Mechanisms (TPM)\" and \"Copyright\": 7\n",
      "\"Digital Rights Management (DRM) / Technical Protection Mechanisms (TPM)\" and \"Unsure / I would rather not say\": 0\n",
      "\"Digital Rights Management (DRM) / Technical Protection Mechanisms (TPM)\" and \"N/A - Ownership of all my work is assigned to clients\": 0\n",
      "\"Digital Rights Management (DRM) / Technical Protection Mechanisms (TPM)\" and \"Trade secret\": 3\n",
      "\"Digital Rights Management (DRM) / Technical Protection Mechanisms (TPM)\" and \"Other\": 0\n",
      "\"Digital Rights Management (DRM) / Technical Protection Mechanisms (TPM)\" and \"Free and/or Open Source Software License (FOSS)\": 2\n",
      "\"Digital Rights Management (DRM) / Technical Protection Mechanisms (TPM)\" and \"Patent (product, process, design or software)\": 4\n",
      "\"Digital Rights Management (DRM) / Technical Protection Mechanisms (TPM)\" and \"Creative Commons (CC) Licenses\": 2\n",
      "\"Copyright\" and \"Unsure / I would rather not say\": 1\n",
      "\"Copyright\" and \"N/A - Ownership of all my work is assigned to clients\": 1\n",
      "\"Copyright\" and \"Trade secret\": 5\n",
      "\"Copyright\" and \"Other\": 0\n",
      "\"Copyright\" and \"Free and/or Open Source Software License (FOSS)\": 10\n",
      "\"Copyright\" and \"Patent (product, process, design or software)\": 8\n",
      "\"Copyright\" and \"Creative Commons (CC) Licenses\": 8\n",
      "\"Unsure / I would rather not say\" and \"N/A - Ownership of all my work is assigned to clients\": 0\n",
      "\"Unsure / I would rather not say\" and \"Trade secret\": 0\n",
      "\"Unsure / I would rather not say\" and \"Other\": 0\n",
      "\"Unsure / I would rather not say\" and \"Free and/or Open Source Software License (FOSS)\": 0\n",
      "\"Unsure / I would rather not say\" and \"Patent (product, process, design or software)\": 0\n",
      "\"Unsure / I would rather not say\" and \"Creative Commons (CC) Licenses\": 1\n",
      "\"N/A - Ownership of all my work is assigned to clients\" and \"Trade secret\": 0\n",
      "\"N/A - Ownership of all my work is assigned to clients\" and \"Other\": 0\n",
      "\"N/A - Ownership of all my work is assigned to clients\" and \"Free and/or Open Source Software License (FOSS)\": 0\n",
      "\"N/A - Ownership of all my work is assigned to clients\" and \"Patent (product, process, design or software)\": 0\n",
      "\"N/A - Ownership of all my work is assigned to clients\" and \"Creative Commons (CC) Licenses\": 0\n",
      "\"Trade secret\" and \"Other\": 0\n",
      "\"Trade secret\" and \"Free and/or Open Source Software License (FOSS)\": 1\n",
      "\"Trade secret\" and \"Patent (product, process, design or software)\": 2\n",
      "\"Trade secret\" and \"Creative Commons (CC) Licenses\": 1\n",
      "\"Other\" and \"Free and/or Open Source Software License (FOSS)\": 0\n",
      "\"Other\" and \"Patent (product, process, design or software)\": 0\n",
      "\"Other\" and \"Creative Commons (CC) Licenses\": 0\n",
      "\"Free and/or Open Source Software License (FOSS)\" and \"Patent (product, process, design or software)\": 6\n",
      "\"Free and/or Open Source Software License (FOSS)\" and \"Creative Commons (CC) Licenses\": 9\n",
      "\"Patent (product, process, design or software)\" and \"Creative Commons (CC) Licenses\": 5\n"
     ]
    }
   ],
   "source": [
    "protection_techniques = get_conds(df, qs[49])\n",
    "for n1, n2 in combinations(protection_techniques.keys(), 2):\n",
    "     print(\"\\\"{}\\\" and \\\"{}\\\": {}\".format(n1, n2, num_yes(protection_techniques[n1] & protection_techniques[n2])))\n"
   ]
  },
  {
   "cell_type": "markdown",
   "metadata": {},
   "source": [
    "## 17. Bar Graph for Q49 and Q50"
   ]
  },
  {
   "cell_type": "code",
   "execution_count": 21,
   "metadata": {
    "collapsed": false,
    "scrolled": true
   },
   "outputs": [
    {
     "data": {
      "image/png": "[encoded data removed]",
      "text/plain": [
       "<matplotlib.figure.Figure at 0x7f1f252d9b50>"
      ]
     },
     "metadata": {},
     "output_type": "display_data"
    }
   ],
   "source": [
    "plot_bar()"
   ]
  },
  {
   "cell_type": "markdown",
   "metadata": {},
   "source": [
    "## 18. The people who answered \"mobile app products\" in q 10, how did they respond to Q 31, 32, 33, 34, 35 , 37, 38 respectively?"
   ]
  },
  {
   "cell_type": "code",
   "execution_count": 22,
   "metadata": {
    "collapsed": false,
    "scrolled": true
   },
   "outputs": [
    {
     "name": "stdout",
     "output_type": "stream",
     "text": [
      "How do you license your code upon sharing it?\n",
      "----\n",
      " N/A - I do not license my code: 7\n",
      " Unsure / I would rather not say: 3\n",
      " Copyright license: 7\n",
      " Free / Open source license: 7\n",
      " Unlicense (release into public domain): 1\n",
      "----\n",
      "What would your enterprise like others to be able to do with your code?\n",
      "----\n",
      " Unsure: 3\n",
      " To use the code: 9\n",
      " To view the code: 6\n",
      " To modify the code for their works: 6\n",
      " Nothing at all: 9\n",
      " To sell their works created with the code: 6\n",
      " To distribute copies of the code to others: 6\n",
      " To contribute bugfixes/patches back to us: 6\n",
      "----\n",
      "What would you ideally require from others in order to be able to do such things with your code?\n",
      "----\n",
      " Unsure: 4\n",
      " To credit us: 8\n",
      " Nothing at all: 6\n",
      " Not to do so for commercial purposes: 3\n",
      "# Other\n",
      "\t nan: 45\n",
      "\t Not Applicable - we will not share code: 1\n",
      " To pay a royalty: 0\n",
      " To license their work under the same terms: 3\n",
      "----\n",
      "How do you access code created by others?\n",
      "----\n",
      " Unsure / I would rather not say: 0\n",
      " N/A - I do not use code created by others: 2\n",
      " Online marketplace for app components: 3\n",
      " Conferences / Meet ups: 4\n",
      " Personally (one-on-one): 7\n",
      " Online communities / forums: 10\n",
      "# Other\n",
      "\t nan: 45\n",
      "\t Github: 1\n",
      " Online libraries / directories: 12\n",
      " Reverse-engineering / decompilation: 1\n",
      "----\n",
      "Roughly, how often do you check the terms or conditions of the licenses when using code created by others within your apps?\n",
      "----\n",
      " nan: 28\n",
      " All of the time: 10\n",
      " N/A - I do not use code created by others: 2\n",
      " Most of the time: 4\n",
      " Some of the time: 1\n",
      " None of the time: 1\n",
      "----\n",
      "For what reason(s) have you reverse engineered / decompiled apps in the past?\n",
      "----\n",
      " To try to solve a problem faced in app development: 3\n",
      " To monitor / analyze app activity: 2\n",
      " N/A - I have not reverse engineered / decompiled an app: 13\n",
      " To understand how another app functions: 4\n",
      " For component not available under open source: 0\n",
      "# Other\n",
      "\t nan: 45\n",
      "\t Havent decompiled an app, but have looked at JavaScript: 1\n",
      " Unsure / I would rather not say: 2\n",
      " To save time in coding: 0\n",
      "----\n",
      "How often have you used parts of code accessed by reverse engineering / decompilation in your work?\n",
      "----\n",
      " nan: 28\n",
      " Unsure / I would rather not say: 2\n",
      " N/A - I have not reverse engineered / decompiled an app: 6\n",
      " None of the time: 10\n",
      "----\n"
     ]
    }
   ],
   "source": [
    "df_ = df[df[qs[10]] == \"Mobile app products - mobile apps developed as own products\"]\n",
    "for q in [qs[31], qs[32], qs[33], qs[34], qs[35], qs[37], qs[38]]:\n",
    "    print(q)\n",
    "    \n",
    "    print_dict(get_answers(df_, q))"
   ]
  },
  {
   "cell_type": "markdown",
   "metadata": {},
   "source": [
    "## 19. The people who answered \"both\" in q 10, how did they respond to Q 31, 32, 33, 34, 35 , 37, 38?"
   ]
  },
  {
   "cell_type": "code",
   "execution_count": 23,
   "metadata": {
    "collapsed": false,
    "scrolled": true
   },
   "outputs": [
    {
     "name": "stdout",
     "output_type": "stream",
     "text": [
      "How do you license your code upon sharing it?\n",
      "----\n",
      " N/A - I do not license my code: 8\n",
      " Unsure / I would rather not say: 2\n",
      " Copyright license: 17\n",
      " Free / Open source license: 9\n",
      " Unlicense (release into public domain): 3\n",
      "----\n",
      "What would your enterprise like others to be able to do with your code?\n",
      "----\n",
      " Unsure: 3\n",
      " To use the code: 10\n",
      " To view the code: 9\n",
      " To modify the code for their works: 9\n",
      " Nothing at all: 8\n",
      " To sell their works created with the code: 8\n",
      " To distribute copies of the code to others: 6\n",
      " To contribute bugfixes/patches back to us: 10\n",
      "----\n",
      "What would you ideally require from others in order to be able to do such things with your code?\n",
      "----\n",
      " Unsure: 3\n",
      " To credit us: 14\n",
      " Nothing at all: 3\n",
      " Not to do so for commercial purposes: 5\n",
      "# Other\n",
      "\t nan: 60\n",
      " To pay a royalty: 5\n",
      " To license their work under the same terms: 5\n",
      "----\n",
      "How do you access code created by others?\n",
      "----\n",
      " Unsure / I would rather not say: 2\n",
      " N/A - I do not use code created by others: 0\n",
      " Online marketplace for app components: 5\n",
      " Conferences / Meet ups: 1\n",
      " Personally (one-on-one): 5\n",
      " Online communities / forums: 14\n",
      "# Other\n",
      "\t nan: 60\n",
      " Online libraries / directories: 19\n",
      " Reverse-engineering / decompilation: 1\n",
      "----\n",
      "Roughly, how often do you check the terms or conditions of the licenses when using code created by others within your apps?\n",
      "----\n",
      " nan: 35\n",
      " All of the time: 14\n",
      " None of the time: 1\n",
      " Most of the time: 6\n",
      " Some of the time: 3\n",
      " Unsure / I would rather not say: 1\n",
      "----\n",
      "For what reason(s) have you reverse engineered / decompiled apps in the past?\n",
      "----\n",
      " To try to solve a problem faced in app development: 8\n",
      " To monitor / analyze app activity: 5\n",
      " N/A - I have not reverse engineered / decompiled an app: 14\n",
      " To understand how another app functions: 5\n",
      " For component not available under open source: 3\n",
      "# Other\n",
      "\t nan: 60\n",
      " Unsure / I would rather not say: 1\n",
      " To save time in coding: 2\n",
      "----\n",
      "How often have you used parts of code accessed by reverse engineering / decompilation in your work?\n",
      "----\n",
      " nan: 35\n",
      " Some of the time: 8\n",
      " Unsure / I would rather not say: 1\n",
      " N/A - I have not reverse engineered / decompiled an app: 9\n",
      " None of the time: 7\n",
      "----\n"
     ]
    }
   ],
   "source": [
    "df_ = df[df[qs[10]] == \"Both technological services & mobile app products\"]\n",
    "for q in [qs[31], qs[32], qs[33], qs[34], qs[35], qs[37], qs[38]]:\n",
    "    print(q)\n",
    "    \n",
    "    print_dict(get_answers(df_, q))"
   ]
  },
  {
   "cell_type": "markdown",
   "metadata": {},
   "source": [
    "## 20. People who responded to Q10 as “development services\"; how did you respond to Q 35  (How often do they check the licenses when using code created by others)"
   ]
  },
  {
   "cell_type": "code",
   "execution_count": 24,
   "metadata": {
    "collapsed": false
   },
   "outputs": [
    {
     "name": "stdout",
     "output_type": "stream",
     "text": [
      "Roughly, how often do you check the terms or conditions of the licenses when using code created by others within your apps?\n",
      "----\n",
      " nan: 7\n",
      " Some of the time: 2\n",
      " All of the time: 3\n",
      "----\n"
     ]
    }
   ],
   "source": [
    "df_ = df[df[qs[10]] == \"Development services - mobile app solutions developed by request by clients\"]\n",
    "for q in [qs[35]]:\n",
    "    print(q)\n",
    "    \n",
    "    print_dict(get_answers(df_, q))"
   ]
  },
  {
   "cell_type": "markdown",
   "metadata": {},
   "source": [
    "## 21. The respondents who answered they have not decompiled N/A in q 37, how concerned were they  with infringing other’s mobile app (with relation to q 39)?"
   ]
  },
  {
   "cell_type": "code",
   "execution_count": 25,
   "metadata": {
    "collapsed": false
   },
   "outputs": [
    {
     "name": "stdout",
     "output_type": "stream",
     "text": [
      "----\n",
      " Very: 10\n",
      " Unsure / I would rather not say: 8\n",
      " Not really: 1\n",
      " Somewhat: 7\n",
      " No: 2\n",
      "----\n"
     ]
    }
   ],
   "source": [
    "not_decompiled = get_conds(df, qs[37])['N/A - I have not reverse engineered / decompiled an app']\n",
    "df_ = df[not_decompiled]\n",
    "print_dict(get_answers(df_, qs[39]))"
   ]
  },
  {
   "cell_type": "markdown",
   "metadata": {},
   "source": [
    "## 22. How many unique people answered 37 and what was the response breakup?"
   ]
  },
  {
   "cell_type": "code",
   "execution_count": 26,
   "metadata": {
    "collapsed": false
   },
   "outputs": [
    {
     "name": "stdout",
     "output_type": "stream",
     "text": [
      "49\n",
      "----\n",
      " To try to solve a problem faced in app development: 14\n",
      " To monitor / analyze app activity: 8\n",
      " N/A - I have not reverse engineered / decompiled an app: 28\n",
      " To understand how another app functions: 12\n",
      " For component not available under open source: 4\n",
      "# Other\n",
      "\t nan: 255\n",
      "\t Havent decompiled an app, but have looked at JavaScript: 1\n",
      "\t Small tweaks suiting personal requirements: 1\n",
      " Unsure / I would rather not say: 3\n",
      " To save time in coding: 2\n",
      "----\n"
     ]
    }
   ],
   "source": [
    "print(count_unique(df, qs[37]))\n",
    "print_dict(get_answers(df, qs[37]))\n"
   ]
  },
  {
   "cell_type": "markdown",
   "metadata": {},
   "source": [
    "## 23. How many unique people answered 37 and what was the response breakup?"
   ]
  },
  {
   "cell_type": "code",
   "execution_count": 27,
   "metadata": {
    "collapsed": false
   },
   "outputs": [
    {
     "name": "stdout",
     "output_type": "stream",
     "text": [
      "48\n",
      "----\n",
      " nan: 209\n",
      " Some of the time: 9\n",
      " Unsure / I would rather not say: 4\n",
      " N/A - I have not reverse engineered / decompiled an app: 16\n",
      " None of the time: 19\n",
      "----\n"
     ]
    }
   ],
   "source": [
    "\n",
    "print(count_unique(df, qs[38]))\n",
    "print_dict(get_answers(df, qs[38]))"
   ]
  },
  {
   "cell_type": "markdown",
   "metadata": {},
   "source": [
    "## 24. Did the same people answer that they had not Reverse engineered in Q37 and 38?"
   ]
  },
  {
   "cell_type": "code",
   "execution_count": 28,
   "metadata": {
    "collapsed": false
   },
   "outputs": [
    {
     "name": "stdout",
     "output_type": "stream",
     "text": [
      "Counter({False: 229, True: 28})\n",
      "Counter({False: 241, True: 16})\n",
      "Counter({False: 241, True: 16})\n",
      "Counter({False: 229, True: 28})\n"
     ]
    }
   ],
   "source": [
    "not_decompiled_37 = get_conds(df, qs[37])['N/A - I have not reverse engineered / decompiled an app']\n",
    "not_decompiled_38 = get_conds(df, qs[38])['N/A - I have not reverse engineered / decompiled an app']\n",
    "print(Counter(not_decompiled_37))\n",
    "print(Counter(not_decompiled_38))\n",
    "print(Counter(not_decompiled_37 & not_decompiled_38))\n",
    "print(Counter(not_decompiled_37 | not_decompiled_38))"
   ]
  },
  {
   "cell_type": "code",
   "execution_count": 29,
   "metadata": {
    "collapsed": false
   },
   "outputs": [
    {
     "name": "stdout",
     "output_type": "stream",
     "text": [
      "Counter({False: 229, True: 28})\n",
      "Counter({False: 222, True: 35})\n",
      "Counter({False: 230, True: 27})\n",
      "Counter({False: 221, True: 36})\n"
     ]
    }
   ],
   "source": [
    "not_decompiled_37 = get_conds(df, qs[37])['N/A - I have not reverse engineered / decompiled an app'] \n",
    "not_decompiled_38 = get_conds(df, qs[38])['N/A - I have not reverse engineered / decompiled an app'] | get_conds(df, qs[38])['None of the time']\n",
    "print(Counter(not_decompiled_37))\n",
    "print(Counter(not_decompiled_38))\n",
    "print(Counter(not_decompiled_37 & not_decompiled_38))\n",
    "print(Counter(not_decompiled_37 | not_decompiled_38))"
   ]
  },
  {
   "cell_type": "markdown",
   "metadata": {},
   "source": [
    "## 25. Frequency of decompilation/reverse engineering with respect to age of enterprise"
   ]
  },
  {
   "cell_type": "code",
   "execution_count": 30,
   "metadata": {
    "collapsed": false,
    "scrolled": true
   },
   "outputs": [
    {
     "name": "stdout",
     "output_type": "stream",
     "text": [
      "----\n",
      "# nan\n",
      "# Unsure\n",
      "\t None of the time: 1\n",
      "# 2-5 years old\n",
      "\t nan: 25\n",
      "\t Some of the time: 2\n",
      "\t None of the time: 6\n",
      "\t N/A - I have not reverse engineered / decompiled an app: 3\n",
      "# 0-2 years old\n",
      "\t nan: 19\n",
      "\t Some of the time: 3\n",
      "\t Unsure / I would rather not say: 1\n",
      "\t None of the time: 7\n",
      "\t N/A - I have not reverse engineered / decompiled an app: 5\n",
      "# 5-10 years old\n",
      "\t nan: 13\n",
      "\t Some of the time: 1\n",
      "\t N/A - I have not reverse engineered / decompiled an app: 6\n",
      "\t None of the time: 4\n",
      "# More than 10 years old\n",
      "\t nan: 14\n",
      "\t Some of the time: 3\n",
      "\t Unsure / I would rather not say: 3\n",
      "\t None of the time: 1\n",
      "\t N/A - I have not reverse engineered / decompiled an app: 2\n",
      "----\n"
     ]
    }
   ],
   "source": [
    "print_dict(sieve_answers(df, qs[38], qs[5]))"
   ]
  },
  {
   "cell_type": "markdown",
   "metadata": {},
   "source": [
    "## 26. How many unique people had answered q5 and q38?"
   ]
  },
  {
   "cell_type": "code",
   "execution_count": 31,
   "metadata": {
    "collapsed": false
   },
   "outputs": [
    {
     "name": "stdout",
     "output_type": "stream",
     "text": [
      "119\n",
      "48\n",
      "48\n"
     ]
    }
   ],
   "source": [
    "print(count_unique(df, qs[5]))\n",
    "print(count_unique(df, qs[38]))\n",
    "ques = [qs[5], qs[38]]\n",
    "print(Counter(np.all([np.any(df[get_cols(df, q)].notnull(), axis=1)\n",
    "                               for q in ques], axis=0))[True])"
   ]
  },
  {
   "cell_type": "markdown",
   "metadata": {},
   "source": [
    "# Profiling Respondents"
   ]
  },
  {
   "cell_type": "code",
   "execution_count": 32,
   "metadata": {
    "collapsed": false,
    "scrolled": true
   },
   "outputs": [
    {
     "name": "stdout",
     "output_type": "stream",
     "text": [
      "How many years old is your enterprise?\n",
      "----\n",
      " nan: 138\n",
      " More than 10 years old: 23\n",
      " Unsure: 1\n",
      " 2-5 years old: 36\n",
      " 0-2 years old: 35\n",
      " 5-10 years old: 24\n",
      "----\n",
      "Where is your enterprise based out of?\n",
      "----\n",
      " Hyderabad: 4\n",
      " Pune: 11\n",
      " Chennai: 6\n",
      " Mumbai: 18\n",
      " Goa: 0\n",
      " Kerala: 10\n",
      "# Other\n",
      "\t nan: 248\n",
      "\t Coimbatore: 1\n",
      "\t Jaipur: 2\n",
      "\t Wikimedia we are :): 1\n",
      "\t SFO: 1\n",
      "\t US: 1\n",
      "\t Indore: 2\n",
      "\t Ahmedabad: 1\n",
      " Kolkata: 1\n",
      " Bangalore: 56\n",
      " Delhi/NCR: 20\n",
      " Unsure / I would rather not say: 7\n",
      "----\n",
      "How many people does your enterprise employ?\n",
      "----\n",
      " nan: 138\n",
      " 250 or more people: 26\n",
      " Unsure: 2\n",
      " 50 to 249 people: 21\n",
      " 10 to 49 people: 29\n",
      " Less than 10 people: 41\n",
      "----\n",
      "How is your enterprise funded?\n",
      "----\n",
      " Personal investments / friends / family: 39\n",
      " Seed funder: 4\n",
      " Incubator / Accelerator: 3\n",
      " Angel investor / Angel funds: 9\n",
      " From previous generated revenue: 47\n",
      " Venture capitalist (VC): 20\n",
      " Crowdfunded: 1\n",
      "# Other\n",
      "\t nan: 253\n",
      "\t They conduct iOS development courses too.: 1\n",
      "\t self: 1\n",
      "\t Accel Partners has recently invested in the company: 1\n",
      "\t Our initial funding is from the Online Gambling/Casino market. Talking big dough here bruh!: 1\n",
      " Unsure / I would rather not say: 23\n",
      "----\n",
      "How many mobile app products does your enterprise have and own entirely? (not created for clients)\n",
      "----\n",
      " nan: 138\n",
      " Unsure: 12\n",
      " 5 or more: 32\n",
      " 1: 15\n",
      " 0: 9\n",
      " 3: 10\n",
      " 2: 31\n",
      " 4: 10\n",
      "----\n"
     ]
    }
   ],
   "source": [
    "for q in [qs[5], qs[7], qs[6], qs[8], qs[12]]:\n",
    "    print(q)\n",
    "    \n",
    "    print_dict(get_answers(df, q))"
   ]
  },
  {
   "cell_type": "markdown",
   "metadata": {},
   "source": [
    "## 32. Age of Enterprise  and the IP protection method used (Q5 and Q49)"
   ]
  },
  {
   "cell_type": "code",
   "execution_count": 33,
   "metadata": {
    "collapsed": false,
    "scrolled": true
   },
   "outputs": [
    {
     "name": "stdout",
     "output_type": "stream",
     "text": [
      "# nan: 138\n",
      "\t## Trademark / Service mark\n",
      "\t## Digital Rights Management (DRM) / Technical Protection Mechanisms (TPM)\n",
      "\t## Copyright\n",
      "\t## Unsure / I would rather not say\n",
      "\t## N/A - Ownership of all my work is assigned to clients\n",
      "\t## Trade secret\n",
      "\t## Other\n",
      "\t## Free and/or Open Source Software License (FOSS)\n",
      "\t## Patent (product, process, design or software)\n",
      "\t## Creative Commons (CC) Licenses\n",
      "# More than 10 years old: 23\n",
      "\t Trademark / Service mark: 3\n",
      "\t Digital Rights Management (DRM) / Technical Protection Mechanisms (TPM): 2\n",
      "\t Copyright: 7\n",
      "\t Unsure / I would rather not say: 2\n",
      "\t N/A - Ownership of all my work is assigned to clients: 2\n",
      "\t Trade secret: 1\n",
      "\t## Other\n",
      "\t\t nan: 23\n",
      "\t Free and/or Open Source Software License (FOSS): 5\n",
      "\t Patent (product, process, design or software): 4\n",
      "\t Creative Commons (CC) Licenses: 4\n",
      "# Unsure: 1\n",
      "\t Trademark / Service mark: 0\n",
      "\t Digital Rights Management (DRM) / Technical Protection Mechanisms (TPM): 0\n",
      "\t Copyright: 0\n",
      "\t Unsure / I would rather not say: 1\n",
      "\t N/A - Ownership of all my work is assigned to clients: 0\n",
      "\t Trade secret: 0\n",
      "\t## Other\n",
      "\t\t nan: 1\n",
      "\t Free and/or Open Source Software License (FOSS): 0\n",
      "\t Patent (product, process, design or software): 0\n",
      "\t Creative Commons (CC) Licenses: 0\n",
      "# 2-5 years old: 36\n",
      "\t Trademark / Service mark: 7\n",
      "\t Digital Rights Management (DRM) / Technical Protection Mechanisms (TPM): 1\n",
      "\t Copyright: 8\n",
      "\t Unsure / I would rather not say: 1\n",
      "\t N/A - Ownership of all my work is assigned to clients: 3\n",
      "\t Trade secret: 3\n",
      "\t## Other\n",
      "\t\t nan: 35\n",
      "\t\t to be very frank nothing so far : 1\n",
      "\t Free and/or Open Source Software License (FOSS): 1\n",
      "\t Patent (product, process, design or software): 5\n",
      "\t Creative Commons (CC) Licenses: 0\n",
      "# 0-2 years old: 35\n",
      "\t Trademark / Service mark: 3\n",
      "\t Digital Rights Management (DRM) / Technical Protection Mechanisms (TPM): 2\n",
      "\t Copyright: 7\n",
      "\t Unsure / I would rather not say: 8\n",
      "\t N/A - Ownership of all my work is assigned to clients: 1\n",
      "\t Trade secret: 2\n",
      "\t## Other\n",
      "\t\t nan: 33\n",
      "\t\t I don't know a way for this: 1\n",
      "\t\t Havent don't anything about it as yet , not sure if any of the options are effective and worth while ... Apps are so easy to copy, would rather focus on creating the next one rather than protecting turf ( aka music ): 1\n",
      "\t Free and/or Open Source Software License (FOSS): 4\n",
      "\t Patent (product, process, design or software): 3\n",
      "\t Creative Commons (CC) Licenses: 4\n",
      "# 5-10 years old: 24\n",
      "\t Trademark / Service mark: 5\n",
      "\t Digital Rights Management (DRM) / Technical Protection Mechanisms (TPM): 3\n",
      "\t Copyright: 10\n",
      "\t Unsure / I would rather not say: 4\n",
      "\t N/A - Ownership of all my work is assigned to clients: 1\n",
      "\t Trade secret: 1\n",
      "\t## Other\n",
      "\t\t nan: 24\n",
      "\t Free and/or Open Source Software License (FOSS): 5\n",
      "\t Patent (product, process, design or software): 1\n",
      "\t Creative Commons (CC) Licenses: 3\n"
     ]
    }
   ],
   "source": [
    "print_sieve_answers(df, qs[49], qs[5])"
   ]
  },
  {
   "cell_type": "markdown",
   "metadata": {},
   "source": [
    "## 33. App Platforms"
   ]
  },
  {
   "cell_type": "code",
   "execution_count": 34,
   "metadata": {
    "collapsed": false
   },
   "outputs": [
    {
     "name": "stdout",
     "output_type": "stream",
     "text": [
      "----\n",
      " Windows: 41\n",
      " Android: 87\n",
      "# Other\n",
      "\t nan: 251\n",
      "\t OSX: 1\n",
      "\t Java: 1\n",
      "\t HTML5: 1\n",
      "\t Phone gap: 1\n",
      "\t USSD, SMS, IVR: 1\n",
      "\t java, symbian: 1\n",
      " iOS: 68\n",
      " Blackberry: 11\n",
      "----\n",
      "37\n",
      "65\n",
      "41\n",
      "37\n"
     ]
    }
   ],
   "source": [
    "print_dict(get_answers(df, qs[16]))\n",
    "platforms = get_conds(df, qs[16])\n",
    "print(num_yes(platforms['iOS'] & platforms['Windows']))\n",
    "print(num_yes(platforms['iOS'] & platforms['Android']))\n",
    "print(num_yes(platforms['Windows'] & platforms['Android']))\n",
    "print(num_yes(platforms['iOS'] & platforms['Windows'] & platforms['Android']))"
   ]
  },
  {
   "cell_type": "markdown",
   "metadata": {},
   "source": [
    "## 34.  Size of enterprises developing on all three major platforms"
   ]
  },
  {
   "cell_type": "code",
   "execution_count": 35,
   "metadata": {
    "collapsed": false,
    "scrolled": true
   },
   "outputs": [
    {
     "name": "stdout",
     "output_type": "stream",
     "text": [
      "----\n",
      " 250 or more people: 15\n",
      " Less than 10 people: 6\n",
      " Unsure: 1\n",
      " 50 to 249 people: 6\n",
      " 10 to 49 people: 9\n",
      "----\n",
      "----\n",
      " nan: 138\n",
      " 250 or more people: 26\n",
      " Unsure: 2\n",
      " 50 to 249 people: 21\n",
      " 10 to 49 people: 29\n",
      " Less than 10 people: 41\n",
      "----\n"
     ]
    }
   ],
   "source": [
    "cond = platforms['iOS'] & platforms['Windows'] & platforms['Android']\n",
    "df_ = df[cond]\n",
    "print_dict(get_answers(df_, qs[6]))\n",
    "print_dict(get_answers(df, qs[6]))"
   ]
  },
  {
   "cell_type": "markdown",
   "metadata": {},
   "source": [
    "## 35. Type of contracts used by enterprises (Q25)"
   ]
  },
  {
   "cell_type": "code",
   "execution_count": 36,
   "metadata": {
    "collapsed": false
   },
   "outputs": [
    {
     "name": "stdout",
     "output_type": "stream",
     "text": [
      "----\n",
      "# Non-compete agreement\n",
      "\t nan: 208\n",
      "\t Never: 9\n",
      "\t Unsure: 14\n",
      "\t Usually: 7\n",
      "\t Always: 8\n",
      "\t Sometimes: 11\n",
      "# Non-disclosure agreement (NDA)\n",
      "\t nan: 206\n",
      "\t Sometimes: 5\n",
      "\t Unsure: 10\n",
      "\t Usually: 13\n",
      "\t Always: 20\n",
      "\t Never: 3\n",
      "# Work-for-hire agreement\n",
      "\t nan: 206\n",
      "\t Never: 9\n",
      "\t Unsure: 15\n",
      "\t Usually: 10\n",
      "\t Always: 11\n",
      "\t Sometimes: 6\n",
      "----\n"
     ]
    }
   ],
   "source": [
    "print_dict(get_answers(df, qs[25]))"
   ]
  },
  {
   "cell_type": "markdown",
   "metadata": {},
   "source": [
    "## 36. Distribution of size of enterprises mostly using non compete agreements"
   ]
  },
  {
   "cell_type": "code",
   "execution_count": 37,
   "metadata": {
    "collapsed": false
   },
   "outputs": [
    {
     "name": "stdout",
     "output_type": "stream",
     "text": [
      "----\n",
      " 250 or more people: 3\n",
      " Less than 10 people: 6\n",
      " 50 to 249 people: 6\n",
      " 10 to 49 people: 11\n",
      "----\n"
     ]
    }
   ],
   "source": [
    "non_compete_col = get_cols(df, qs[25])[1]\n",
    "non_compete_conds = get_conds_flat(df, non_compete_col)\n",
    "mostly_non_compete = non_compete_conds[\"Sometimes\"] | non_compete_conds[\"Usually\"] | non_compete_conds[\"Always\"]\n",
    "df_ = df[mostly_non_compete]\n",
    "print_dict(get_answers(df_, qs[6]))"
   ]
  },
  {
   "cell_type": "markdown",
   "metadata": {},
   "source": [
    "## 37. Distribution of 34, 41, 42, 43, 44, 45, 46, 47, 48"
   ]
  },
  {
   "cell_type": "code",
   "execution_count": 38,
   "metadata": {
    "collapsed": false
   },
   "outputs": [
    {
     "name": "stdout",
     "output_type": "stream",
     "text": [
      "34. How do you access code created by others? \n",
      "----\n",
      " Unsure / I would rather not say: 3\n",
      " N/A - I do not use code created by others: 2\n",
      " Online marketplace for app components: 8\n",
      " Conferences / Meet ups: 5\n",
      " Personally (one-on-one): 13\n",
      " Online communities / forums: 26\n",
      "# Other\n",
      "\t nan: 256\n",
      "\t Github: 1\n",
      " Online libraries / directories: 35\n",
      " Reverse-engineering / decompilation: 4\n",
      "----\n",
      "41. How do you license your designs? \n",
      "----\n",
      " Unlicense (release into public domain): 3\n",
      " N/A - I do not license my designs: 16\n",
      "# Other\n",
      "\t nan: 256\n",
      "\t Not yet done , so don't know what it will mean: 1\n",
      " Unsure / I would rather not say: 7\n",
      " Copyright license: 12\n",
      " Creative commons license: 5\n",
      "----\n",
      "42. What would your enterprise like others to be able to do with your designs? \n",
      "----\n",
      " Unsure: 9\n",
      " Nothing at all: 10\n",
      " To sell their works created with the designs: 7\n",
      " To distribute copies of the designs to others: 5\n",
      " To view the designs: 15\n",
      " To modify the designs for their works: 10\n",
      "----\n",
      "43. What would you ideally require from others in order to be able to do such things with your designs? \n",
      "----\n",
      " Unsure: 8\n",
      " To credit us: 15\n",
      " Nothing at all: 9\n",
      " Not to do so for commercial purposes: 3\n",
      " To pay a royalty: 6\n",
      " To license their work under the same terms: 5\n",
      "----\n",
      "44. Roughly, how often do you use content in your mobile app designs created by others? (not including others within your enterprise) \n",
      "----\n",
      " nan: 220\n",
      " All of the time: 1\n",
      " None of the time: 13\n",
      " Most of the time: 2\n",
      " Some of the time: 19\n",
      " Unsure / I would rather not say: 2\n",
      "----\n",
      "45. How has the content created by others that you use in your designs been licensed? \n",
      "----\n",
      " N/A - I do not use content created by others: 13\n",
      " Unsure / I would rather not say: 4\n",
      " Copyright license: 8\n",
      " Creative commons license: 14\n",
      " Unlicensed (released to public domain): 10\n",
      "----\n",
      "46. Roughly, how often do you check the permissions for the content you use within your mobile app designs? \n",
      "----\n",
      " nan: 220\n",
      " Never: 3\n",
      " Mostly: 3\n",
      " Always: 21\n",
      " Sometimes: 3\n",
      " N/A - I do not use others' content: 7\n",
      "----\n",
      "47. Are you at all concerned about possibly or accidentally infringing upon or violating another's designs or content? \n",
      "----\n",
      " nan: 220\n",
      " Somewhat: 8\n",
      " No: 4\n",
      " Very: 21\n",
      " Not really: 3\n",
      " Unsure / I would rather not say: 1\n",
      "----\n",
      "48. How concerned are you about others copying your work and/or product? \n",
      "----\n",
      " nan: 189\n",
      " Very concerned: 19\n",
      " Not really concerned: 10\n",
      " Not at all concerned: 4\n",
      " Unsure / I would rather not say: 4\n",
      " Somewhat concerned: 31\n",
      "----\n"
     ]
    }
   ],
   "source": [
    "for n in [34, 41, 42, 43, 44, 45, 46, 47, 48]:\n",
    "    print(\"{}. {} \".format(n, qs[n]))\n",
    "    print_dict(get_answers(df, qs[n]))"
   ]
  }
 ],
 "metadata": {
  "kernelspec": {
   "display_name": "Python 2",
   "language": "python",
   "name": "python2"
  },
  "language_info": {
   "codemirror_mode": {
    "name": "ipython",
    "version": 2
   },
   "file_extension": ".py",
   "mimetype": "text/x-python",
   "name": "python",
   "nbconvert_exporter": "python",
   "pygments_lexer": "ipython2",
   "version": "2.7.12"
  }
 },
 "nbformat": 4,
 "nbformat_minor": 2
}
